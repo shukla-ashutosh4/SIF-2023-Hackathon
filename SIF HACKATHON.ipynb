{
 "cells": [
  {
   "cell_type": "markdown",
   "id": "123d13e7",
   "metadata": {},
   "source": [
    "# DATA COLLECTION\n"
   ]
  },
  {
   "cell_type": "code",
   "execution_count": 2,
   "id": "9c38ca74",
   "metadata": {},
   "outputs": [],
   "source": [
    "import pandas as pd \n",
    "import numpy as np\n",
    "import requests\n",
    "from scipy.stats import zscore\n",
    "from sklearn.preprocessing import MinMaxScaler\n",
    "from sklearn.preprocessing import StandardScaler\n",
    "from sklearn.model_selection import train_test_split\n",
    "import rasterio \n",
    "import matplotlib.pyplot as plt\n",
    "import dask.array as da\n",
    "import matplotlib.pyplot as plt\n",
    "from sklearn.ensemble import RandomForestRegressor\n",
    "from sklearn.metrics import mean_squared_error"
   ]
  },
  {
   "cell_type": "code",
   "execution_count": 3,
   "id": "f2e97b15",
   "metadata": {
    "scrolled": true
   },
   "outputs": [
    {
     "name": "stdout",
     "output_type": "stream",
     "text": [
      "Raster Shape: (1, 12839, 14816)\n",
      "Metadata: {'driver': 'GTiff', 'dtype': 'uint8', 'nodata': None, 'width': 14816, 'height': 12839, 'count': 1, 'crs': CRS.from_epsg(4326), 'transform': Affine(0.000509090909090909, 0.0, 77.09621818181817,\n",
      "       0.0, -0.0005090909090909091, 30.408)}\n"
     ]
    }
   ],
   "source": [
    "\n",
    "tif_file_path = 'C:\\\\Users\\\\my\\\\Documents\\\\UttarPradesh\\\\LULC\\\\UP_LULC_2013.tif'\n",
    "\n",
    "with rasterio.open(tif_file_path) as src:\n",
    "    \n",
    "    raster_data = src.read()\n",
    "    metadata = src.meta\n",
    "print(\"Raster Shape:\", raster_data.shape)\n",
    "print(\"Metadata:\", metadata)\n"
   ]
  },
  {
   "cell_type": "code",
   "execution_count": 4,
   "id": "a210aef7",
   "metadata": {},
   "outputs": [
    {
     "ename": "RasterioIOError",
     "evalue": "lulc_image1.tif: No such file or directory",
     "output_type": "error",
     "traceback": [
      "\u001b[1;31m---------------------------------------------------------------------------\u001b[0m",
      "\u001b[1;31mCPLE_OpenFailedError\u001b[0m                      Traceback (most recent call last)",
      "File \u001b[1;32mrasterio\\\\_base.pyx:310\u001b[0m, in \u001b[0;36mrasterio._base.DatasetBase.__init__\u001b[1;34m()\u001b[0m\n",
      "File \u001b[1;32mrasterio\\\\_base.pyx:221\u001b[0m, in \u001b[0;36mrasterio._base.open_dataset\u001b[1;34m()\u001b[0m\n",
      "File \u001b[1;32mrasterio\\\\_err.pyx:221\u001b[0m, in \u001b[0;36mrasterio._err.exc_wrap_pointer\u001b[1;34m()\u001b[0m\n",
      "\u001b[1;31mCPLE_OpenFailedError\u001b[0m: lulc_image1.tif: No such file or directory",
      "\nDuring handling of the above exception, another exception occurred:\n",
      "\u001b[1;31mRasterioIOError\u001b[0m                           Traceback (most recent call last)",
      "Input \u001b[1;32mIn [4]\u001b[0m, in \u001b[0;36m<cell line: 15>\u001b[1;34m()\u001b[0m\n\u001b[0;32m     12\u001b[0m     \u001b[38;5;28;01mreturn\u001b[39;00m lulc_data\n\u001b[0;32m     14\u001b[0m lulc_file_paths \u001b[38;5;241m=\u001b[39m [\u001b[38;5;124m'\u001b[39m\u001b[38;5;124mlulc_image1.tif\u001b[39m\u001b[38;5;124m'\u001b[39m, \u001b[38;5;124m'\u001b[39m\u001b[38;5;124mlulc_image2.tif\u001b[39m\u001b[38;5;124m'\u001b[39m, \u001b[38;5;124m'\u001b[39m\u001b[38;5;124mlulc_image3.tif\u001b[39m\u001b[38;5;124m'\u001b[39m]\n\u001b[1;32m---> 15\u001b[0m lulc_images \u001b[38;5;241m=\u001b[39m \u001b[43mread_lulc_images\u001b[49m\u001b[43m(\u001b[49m\u001b[43mlulc_file_paths\u001b[49m\u001b[43m)\u001b[49m\n",
      "Input \u001b[1;32mIn [4]\u001b[0m, in \u001b[0;36mread_lulc_images\u001b[1;34m(file_paths)\u001b[0m\n\u001b[0;32m      2\u001b[0m lulc_data \u001b[38;5;241m=\u001b[39m []\n\u001b[0;32m      4\u001b[0m \u001b[38;5;28;01mfor\u001b[39;00m file_path \u001b[38;5;129;01min\u001b[39;00m file_paths:\n\u001b[1;32m----> 5\u001b[0m     \u001b[38;5;28;01mwith\u001b[39;00m \u001b[43mrasterio\u001b[49m\u001b[38;5;241;43m.\u001b[39;49m\u001b[43mopen\u001b[49m\u001b[43m(\u001b[49m\u001b[43mfile_path\u001b[49m\u001b[43m)\u001b[49m \u001b[38;5;28;01mas\u001b[39;00m src:\n\u001b[0;32m      7\u001b[0m         data \u001b[38;5;241m=\u001b[39m src\u001b[38;5;241m.\u001b[39mread(\u001b[38;5;241m1\u001b[39m)  \n\u001b[0;32m     10\u001b[0m         lulc_data\u001b[38;5;241m.\u001b[39mappend(data)\n",
      "File \u001b[1;32m~\\anaconda3\\lib\\site-packages\\rasterio\\env.py:451\u001b[0m, in \u001b[0;36mensure_env_with_credentials.<locals>.wrapper\u001b[1;34m(*args, **kwds)\u001b[0m\n\u001b[0;32m    448\u001b[0m     session \u001b[38;5;241m=\u001b[39m DummySession()\n\u001b[0;32m    450\u001b[0m \u001b[38;5;28;01mwith\u001b[39;00m env_ctor(session\u001b[38;5;241m=\u001b[39msession):\n\u001b[1;32m--> 451\u001b[0m     \u001b[38;5;28;01mreturn\u001b[39;00m f(\u001b[38;5;241m*\u001b[39margs, \u001b[38;5;241m*\u001b[39m\u001b[38;5;241m*\u001b[39mkwds)\n",
      "File \u001b[1;32m~\\anaconda3\\lib\\site-packages\\rasterio\\__init__.py:331\u001b[0m, in \u001b[0;36mopen\u001b[1;34m(fp, mode, driver, width, height, count, crs, transform, dtype, nodata, sharing, **kwargs)\u001b[0m\n\u001b[0;32m    328\u001b[0m path \u001b[38;5;241m=\u001b[39m _parse_path(raw_dataset_path)\n\u001b[0;32m    330\u001b[0m \u001b[38;5;28;01mif\u001b[39;00m mode \u001b[38;5;241m==\u001b[39m \u001b[38;5;124m\"\u001b[39m\u001b[38;5;124mr\u001b[39m\u001b[38;5;124m\"\u001b[39m:\n\u001b[1;32m--> 331\u001b[0m     dataset \u001b[38;5;241m=\u001b[39m DatasetReader(path, driver\u001b[38;5;241m=\u001b[39mdriver, sharing\u001b[38;5;241m=\u001b[39msharing, \u001b[38;5;241m*\u001b[39m\u001b[38;5;241m*\u001b[39mkwargs)\n\u001b[0;32m    332\u001b[0m \u001b[38;5;28;01melif\u001b[39;00m mode \u001b[38;5;241m==\u001b[39m \u001b[38;5;124m\"\u001b[39m\u001b[38;5;124mr+\u001b[39m\u001b[38;5;124m\"\u001b[39m:\n\u001b[0;32m    333\u001b[0m     dataset \u001b[38;5;241m=\u001b[39m get_writer_for_path(path, driver\u001b[38;5;241m=\u001b[39mdriver)(\n\u001b[0;32m    334\u001b[0m         path, mode, driver\u001b[38;5;241m=\u001b[39mdriver, sharing\u001b[38;5;241m=\u001b[39msharing, \u001b[38;5;241m*\u001b[39m\u001b[38;5;241m*\u001b[39mkwargs\n\u001b[0;32m    335\u001b[0m     )\n",
      "File \u001b[1;32mrasterio\\\\_base.pyx:312\u001b[0m, in \u001b[0;36mrasterio._base.DatasetBase.__init__\u001b[1;34m()\u001b[0m\n",
      "\u001b[1;31mRasterioIOError\u001b[0m: lulc_image1.tif: No such file or directory"
     ]
    }
   ],
   "source": [
    "def read_lulc_images(file_paths):\n",
    "    lulc_data = []\n",
    "    \n",
    "    for file_path in file_paths:\n",
    "        with rasterio.open(file_path) as src:\n",
    "\n",
    "            data = src.read(1)  \n",
    "            \n",
    "        \n",
    "            lulc_data.append(data)\n",
    "    \n",
    "    return lulc_data\n",
    "\n",
    "lulc_file_paths = ['lulc_image1.tif', 'lulc_image2.tif', 'lulc_image3.tif']\n",
    "lulc_images = read_lulc_images(lulc_file_paths)\n"
   ]
  },
  {
   "cell_type": "code",
   "execution_count": null,
   "id": "6a8a4fb3",
   "metadata": {},
   "outputs": [],
   "source": [
    "\n",
    "pixel_value = raster_data[:, 1000,1000]\n",
    "print(\"Pixel Value:\", pixel_value)\n"
   ]
  },
  {
   "cell_type": "code",
   "execution_count": null,
   "id": "9b016741",
   "metadata": {},
   "outputs": [],
   "source": [
    "subset_raster_data = raster_data[:, :1000, :1000] \n",
    "statistics = {'min': subset_raster_data.min(), 'max': subset_raster_data.max(), 'mean': subset_raster_data.mean(), 'std': subset_raster_data.std()}\n",
    "print(\"Statistics:\", statistics)\n"
   ]
  },
  {
   "cell_type": "code",
   "execution_count": null,
   "id": "2e480c9a",
   "metadata": {},
   "outputs": [],
   "source": [
    "downsampled_raster_data = raster_data[:, ::2, ::2]  # Adjust the downsampling factor as needed\n",
    "statistics = {'min': downsampled_raster_data.min(), 'max': downsampled_raster_data.max(), 'mean': downsampled_raster_data.mean(), 'std': downsampled_raster_data.std()}\n",
    "print(\"Statistics:\", statistics)\n"
   ]
  },
  {
   "cell_type": "code",
   "execution_count": null,
   "id": "426c7ec2",
   "metadata": {},
   "outputs": [],
   "source": [
    "\n",
    "dask_raster_data = da.from_array(raster_data, chunks=(1, 1000, 1000))\n",
    "statistics = {'min': dask_raster_data.min().compute(), 'max': dask_raster_data.max().compute(), 'mean': dask_raster_data.mean().compute(), 'std': dask_raster_data.std().compute()}\n",
    "print(\"Statistics:\", statistics)\n"
   ]
  },
  {
   "cell_type": "code",
   "execution_count": null,
   "id": "9f5f0ab5",
   "metadata": {},
   "outputs": [],
   "source": [
    "\n",
    "plt.figure(figsize=(8, 8))\n",
    "plt.imshow(raster_data[0, :, :], cmap='viridis') \n",
    "plt.colorbar(label='Pixel Value')\n",
    "plt.title('Remote Sensing Image')\n",
    "plt.show()\n",
    "print(\"Metadata:\", metadata)\n",
    "\n"
   ]
  },
  {
   "cell_type": "markdown",
   "id": "8d019772",
   "metadata": {},
   "source": [
    "# DATA PREPROCESSING"
   ]
  },
  {
   "cell_type": "code",
   "execution_count": null,
   "id": "68f53a83",
   "metadata": {},
   "outputs": [],
   "source": [
    "from rasterio.enums import Resampling\n",
    "\n",
    "def resample_raster(input_path, output_path, scale_factor):\n",
    "    with rasterio.open(input_path) as src:\n",
    "        data = src.read(\n",
    "            out_shape=(src.count, int(src.height * scale_factor), int(src.width * scale_factor)),\n",
    "            resampling=Resampling.bilinear)\n",
    "\n",
    "        profile = src.profile\n",
    "        profile.update(width=int(src.width * scale_factor), height=int(src.height * scale_factor))\n",
    "\n",
    "        with rasterio.open(output_path, 'w', **profile) as dst:\n",
    "            dst.write(data)\n"
   ]
  },
  {
   "cell_type": "code",
   "execution_count": null,
   "id": "c8d7f316",
   "metadata": {},
   "outputs": [],
   "source": [
    "from rasterio.windows import Window\n",
    "\n",
    "def crop_raster(input_path, output_path, window):\n",
    "    with rasterio.open(input_path) as src:\n",
    "        data = src.read(window=window)\n",
    "\n",
    "        profile = src.profile\n",
    "        profile.update(width=window.width, height=window.height, transform=src.window_transform(window))\n",
    "\n",
    "        with rasterio.open(output_path, 'w', **profile) as dst:\n",
    "            dst.write(data)\n"
   ]
  },
  {
   "cell_type": "code",
   "execution_count": null,
   "id": "ca624f24",
   "metadata": {},
   "outputs": [],
   "source": [
    "def normalize_raster(input_path, output_path, min_value, max_value):\n",
    "    with rasterio.open(input_path) as src:\n",
    "        data = src.read()\n",
    "        data = ((data - data.min()) / (data.max() - data.min())) * (max_value - min_value) + min_value\n",
    "\n",
    "        profile = src.profile\n",
    "\n",
    "        with rasterio.open(output_path, 'w', **profile) as dst:\n",
    "            dst.write(data)\n"
   ]
  },
  {
   "cell_type": "code",
   "execution_count": null,
   "id": "7f1c1c8a",
   "metadata": {},
   "outputs": [],
   "source": [
    "def calculate_ndvi(input_path, output_path):\n",
    "    with rasterio.open(input_path) as src:\n",
    "        red_band = src.read(3)\n",
    "        nir_band = src.read(4)\n",
    "\n",
    "        ndvi = (nir_band - red_band) / (nir_band + red_band)\n",
    "\n",
    "        profile = src.profile\n",
    "\n",
    "        with rasterio.open(output_path, 'w', **profile) as dst:\n",
    "            dst.write(ndvi, 1)\n"
   ]
  },
  {
   "cell_type": "code",
   "execution_count": null,
   "id": "8c7f53d9",
   "metadata": {},
   "outputs": [],
   "source": [
    "def stack_bands(input_paths, output_path):\n",
    "    with rasterio.open(input_paths[0]) as src:\n",
    "        profile = src.profile\n",
    "\n",
    "    stack_data = [rasterio.open(path).read() for path in input_paths]\n",
    "\n",
    "    with rasterio.open(output_path, 'w', **profile) as dst:\n",
    "        dst.write(stack_data)\n"
   ]
  },
  {
   "cell_type": "code",
   "execution_count": null,
   "id": "7bda8443",
   "metadata": {},
   "outputs": [],
   "source": [
    "def calculate_lulc_percentages(input_path, output_path):\n",
    "    with rasterio.open(input_path) as src:\n",
    "        data = src.read()\n",
    "\n",
    "        # Assuming each band corresponds to a different LULC class\n",
    "        num_classes = src.count\n",
    "\n",
    "        # Calculate percentage for each class\n",
    "        class_percentages = (data / data.sum(axis=0)) * 100\n",
    "\n",
    "        profile = src.profile\n",
    "        profile.update(count=num_classes)\n",
    "\n",
    "        with rasterio.open(output_path, 'w', **profile) as dst:\n",
    "            dst.write(class_percentages)\n"
   ]
  },
  {
   "cell_type": "code",
   "execution_count": null,
   "id": "001b05e5",
   "metadata": {},
   "outputs": [],
   "source": [
    "def calculate_dominant_lulc(input_path, output_path):\n",
    "    with rasterio.open(input_path) as src:\n",
    "        data = src.read()\n",
    "\n",
    "        # Assuming each band corresponds to a different LULC class\n",
    "        dominant_class = np.argmax(data, axis=0) + 1  # Add 1 to make class indices start from 1\n",
    "\n",
    "        profile = src.profile\n",
    "\n",
    "        with rasterio.open(output_path, 'w', **profile) as dst:\n",
    "            dst.write(dominant_class)\n"
   ]
  },
  {
   "cell_type": "code",
   "execution_count": null,
   "id": "4ccd80f9",
   "metadata": {},
   "outputs": [],
   "source": [
    "\n",
    "\n",
    "gdp_data = pd.read_csv('C:\\\\Users\\\\my\\\\Documents\\\\GDP.csv')\n",
    "\n",
    "\n",
    "print(gdp_data.head())  \n",
    "\n"
   ]
  },
  {
   "cell_type": "code",
   "execution_count": null,
   "id": "4f6fe702",
   "metadata": {},
   "outputs": [],
   "source": [
    "print(gdp_data.tail())"
   ]
  },
  {
   "cell_type": "code",
   "execution_count": null,
   "id": "65564261",
   "metadata": {
    "scrolled": true
   },
   "outputs": [],
   "source": [
    "gdp_data['GDP'].fillna(gdp_data['GDP'].mean(), inplace=True)\n"
   ]
  },
  {
   "cell_type": "code",
   "execution_count": null,
   "id": "2feec209",
   "metadata": {},
   "outputs": [],
   "source": [
    "import rasterio\n",
    "from rasterio.plot import show\n",
    "\n",
    "# Replace 'your_satellite_image.tif' with the path to your satellite image GeoTIFF file\n",
    "satellite_image_path = 'C:\\\\Users\\\\my\\\\Documents\\\\UttarPradesh\\\\LULC\\\\UP_LULC_2012.tif'\n",
    "\n",
    "# Open the satellite image GeoTIFF file\n",
    "with rasterio.open(satellite_image_path) as src:\n",
    "    # Read all bands of the satellite image\n",
    "    satellite_data = src.read()\n",
    "\n",
    "    # Access metadata\n",
    "    metadata = src.meta\n",
    "\n",
    "# Display the RGB satellite image using rasterio.plot\n",
    "show(satellite_data, cmap='viridis', title='RGB Satellite Image')\n"
   ]
  },
  {
   "cell_type": "code",
   "execution_count": null,
   "id": "4470dea6",
   "metadata": {},
   "outputs": [],
   "source": [
    "import rasterio\n",
    "import numpy as np\n",
    "from scipy.stats import zscore\n",
    "import matplotlib.pyplot as plt\n",
    "\n",
    "# Replace 'your_raster_file.tif' with the path to your GeoTIFF file\n",
    "raster_file_path =\"C:\\\\Users\\\\my\\\\Documents\\\\UttarPradesh\\\\LULC\\\\UP_LULC_2012.tif\"\n",
    "\n",
    "# Open the GeoTIFF file\n",
    "with rasterio.open(raster_file_path) as src:\n",
    "    # Read the raster data\n",
    "    raster_data = src.read(1)  # Assuming you are reading the first band\n",
    "\n",
    "    # Flatten the 2D array to 1D for z-score calculation\n",
    "    flat_data = raster_data.flatten()\n",
    "\n",
    "    # Calculate z-scores for each pixel value\n",
    "    z_scores = zscore(flat_data)\n",
    "\n",
    "    # Define a threshold for considering values as outliers (e.g., z-score > 3 or < -3)\n",
    "    threshold = 3\n",
    "\n",
    "    # Identify outlier indices\n",
    "    outlier_indices = np.where(np.abs(z_scores) > threshold)[0]\n",
    "\n",
    "    # Display the histogram of z-scores\n",
    "    plt.hist(z_scores, bins=50, density=True, alpha=0.75, color='b')\n",
    "    plt.axvline(threshold, color='r', linestyle='dashed', linewidth=2, label=f'Outlier Threshold ({threshold})')\n",
    "    plt.axvline(-threshold, color='r', linestyle='dashed', linewidth=2)\n",
    "    plt.xlabel('Z-Score')\n",
    "    plt.ylabel('Frequency')\n",
    "    plt.legend()\n",
    "    plt.title('Histogram of Z-Scores')\n",
    "    plt.show()\n",
    "\n",
    "# Print indices of potential outliers\n",
    "print(\"Indices of potential outliers:\", outlier_indices)\n"
   ]
  },
  {
   "cell_type": "markdown",
   "id": "f71dfc64",
   "metadata": {},
   "source": [
    "# LULC AND GDP"
   ]
  },
  {
   "cell_type": "markdown",
   "id": "4a3d4eab",
   "metadata": {},
   "source": [
    "Markov chain model"
   ]
  },
  {
   "cell_type": "code",
   "execution_count": null,
   "id": "de81580e",
   "metadata": {},
   "outputs": [],
   "source": [
    "import numpy as np\n",
    "import pandas as pd\n",
    "import matplotlib.pyplot as plt\n"
   ]
  },
  {
   "cell_type": "code",
   "execution_count": null,
   "id": "942b5317",
   "metadata": {},
   "outputs": [],
   "source": [
    "transition_matrix = np.array([\n",
    "    [0.7, 0.2, 0.1],\n",
    "    [0.3, 0.6, 0.1],\n",
    "    [0.1, 0.1, 0.8]\n",
    "])"
   ]
  },
  {
   "cell_type": "code",
   "execution_count": null,
   "id": "92fdd7b9",
   "metadata": {},
   "outputs": [],
   "source": [
    "# Initial distribution of land cover classes\n",
    "initial_distribution = np.array([0.4, 0.4, 0.2])"
   ]
  },
  {
   "cell_type": "code",
   "execution_count": null,
   "id": "f1c9668a",
   "metadata": {},
   "outputs": [],
   "source": [
    "# Simulate transitions over time steps\n",
    "num_steps = 1\n",
    "land_cover_states = np.zeros((num_steps + 1, len(initial_distribution)))\n",
    "land_cover_states[0] = initial_distribution\n"
   ]
  },
  {
   "cell_type": "code",
   "execution_count": null,
   "id": "afe4d635",
   "metadata": {},
   "outputs": [],
   "source": [
    "for t in range(1, num_steps + 1):\n",
    "    land_cover_states[t] = np.dot(land_cover_states[t - 1], transition_matrix)\n"
   ]
  },
  {
   "cell_type": "code",
   "execution_count": null,
   "id": "24db98c3",
   "metadata": {},
   "outputs": [],
   "source": [
    "# Simulated GDP values associated with each land cover state\n",
    "gdp_values = np.array([120, 100, 200])"
   ]
  },
  {
   "cell_type": "code",
   "execution_count": null,
   "id": "b6aa6443",
   "metadata": {},
   "outputs": [],
   "source": [
    "# Calculate GDP over time based on simulated land cover states\n",
    "gdp_over_time = np.dot(land_cover_states, gdp_values)\n"
   ]
  },
  {
   "cell_type": "code",
   "execution_count": null,
   "id": "2792b9c2",
   "metadata": {},
   "outputs": [],
   "source": [
    "# Create a DataFrame for visualization\n",
    "df = pd.DataFrame(land_cover_states, columns=[])\n",
    "df['GDP'] = gdp_over_time\n"
   ]
  },
  {
   "cell_type": "code",
   "execution_count": null,
   "id": "d5bfbdf2",
   "metadata": {},
   "outputs": [],
   "source": [
    "# Plotting\n",
    "plt.figure(figsize=(10, 6))\n",
    "plt.plot(df['GDP'], label='GDP')\n",
    "plt.plot(df['LULC_State_1'], label='LULC State 1')\n",
    "plt.plot(df['LULC_State_2'], label='LULC State 2')\n",
    "plt.plot(df['LULC_State_3'], label='LULC State 3')\n",
    "plt.xlabel('Time Steps')\n",
    "plt.ylabel('Values')\n",
    "plt.legend()\n",
    "plt.title('Simulation of LULC and GDP Over Time')\n",
    "plt.show()"
   ]
  },
  {
   "cell_type": "code",
   "execution_count": null,
   "id": "71d8f763",
   "metadata": {},
   "outputs": [],
   "source": [
    "# Assuming X is your feature matrix\n",
    "# Initialize the scalers\n",
    "scaler_standard = StandardScaler()\n",
    "scaler_minmax = MinMaxScaler()\n",
    "\n",
    "# Apply standardization\n",
    "X_standardized = scaler_standard.fit_transform(X)\n",
    "\n",
    "# Apply normalization\n",
    "X_normalized = scaler_minmax.fit_transform(X)"
   ]
  },
  {
   "cell_type": "code",
   "execution_count": null,
   "id": "de2344f5",
   "metadata": {},
   "outputs": [],
   "source": [
    "# Assuming 'lulc_data' and 'gdp_data' are your LULC and GDP datasets\n",
    "# Assume both datasets have 'Year' and 'Country' columns\n",
    "\n",
    "# Check common time periods\n",
    "common_years = set(lulc_data['Year']).intersection(gdp_data['Year'])\n",
    "\n",
    "# Filter datasets to include only common time periods\n",
    "lulc_data_filtered = lulc_data[lulc_data['Year'].isin(common_years)]\n",
    "gdp_data_filtered = gdp_data[gdp_data['Year'].isin(common_years)]\n"
   ]
  },
  {
   "cell_type": "code",
   "execution_count": null,
   "id": "0b12fb9c",
   "metadata": {},
   "outputs": [],
   "source": []
  },
  {
   "cell_type": "code",
   "execution_count": null,
   "id": "adb7710b",
   "metadata": {},
   "outputs": [],
   "source": []
  },
  {
   "cell_type": "code",
   "execution_count": null,
   "id": "ef03b417",
   "metadata": {},
   "outputs": [],
   "source": []
  },
  {
   "cell_type": "markdown",
   "id": "e364cfd6",
   "metadata": {},
   "source": [
    "# NTL"
   ]
  },
  {
   "cell_type": "code",
   "execution_count": null,
   "id": "3c6ff73c",
   "metadata": {},
   "outputs": [],
   "source": [
    "\n",
    "# Replace these paths with your actual file paths\n",
    "file_paths = [\n",
    "    \"C:\\\\Users\\\\my\\\\Documents\\\\topic17\\\\topic17\\\\2018_MosaickData.tif\",\n",
    "    \"C:\\\\Users\\\\my\\\\Documents\\\\topic17\\\\topic17\\\\2019_MosaickData.tif\",\n",
    "    \"C:\\\\Users\\\\my\\\\Documents\\\\topic17\\\\topic17\\\\2020_MosaickData.tif\",\n",
    "    \"C:\\\\Users\\\\my\\\\Documents\\\\topic17\\\\topic17\\\\2021_MosaickData.tif\",\n",
    "    \"C:\\\\Users\\\\my\\\\Documents\\\\topic17\\\\topic17\\\\2018_MosaickData.tif\"\n",
    "]\n"
   ]
  },
  {
   "cell_type": "code",
   "execution_count": null,
   "id": "c0adea8a",
   "metadata": {},
   "outputs": [],
   "source": [
    "# Read the first four files for training\n",
    "training_file_paths = file_paths[:-1]\n",
    "testing_file_path = file_paths[-1]\n"
   ]
  },
  {
   "cell_type": "code",
   "execution_count": null,
   "id": "4b3f6d41",
   "metadata": {},
   "outputs": [],
   "source": [
    "# Read and flatten each training NTL file\n",
    "ntl_data_list = []\n",
    "for i, file_path in enumerate(training_file_paths):\n",
    "    with rasterio.open(file_path) as src:\n",
    "        ntl_data_list.append(src.read().flatten())"
   ]
  },
  {
   "cell_type": "code",
   "execution_count": null,
   "id": "fbfe3839",
   "metadata": {},
   "outputs": [],
   "source": [
    "# Replace this list with your actual GDP growth data\n",
    "gdp_growth_data = [135.12, 145.60, 134.52, 197.00]"
   ]
  },
  {
   "cell_type": "code",
   "execution_count": null,
   "id": "c6860687",
   "metadata": {},
   "outputs": [],
   "source": [
    "'''# Ensure both arrays have the same length\n",
    "#min_length = min(len(gdp_growth_data), len(ntl_data_list[0]))\n",
    "ntl_data_array[0] = ntl_data_list[0][:min_length]\n",
    "gdp_growth_array = gdp_growth_data[:min_length]'''\n",
    "\n",
    "# Ensure both arrays have the same length\n",
    "min_length = min(len(gdp_growth_data), len(ntl_data_list[0])) if ntl_data_list else 0\n",
    "\n",
    "# Check if ntl_data_list has elements before accessing index 0\n",
    "if ntl_data_list and len(ntl_data_list[0]) > 0:\n",
    "    ntl_data_list[0] = ntl_data_list[0][:min_length]\n",
    "    gdp_growth_data = gdp_growth_data[:min_length]\n",
    "else:\n",
    "    print(\"Error: ntl_data_list is empty or does not have elements at index 0.\")\n"
   ]
  },
  {
   "cell_type": "code",
   "execution_count": null,
   "id": "39308f47",
   "metadata": {
    "scrolled": true
   },
   "outputs": [],
   "source": [
    "# Step 3: Create a DataFrame\n",
    "data = {'GDP_Growth': gdp_growth_data}\n",
    "\n",
    "# Check if ntl_data_list is not empty and has at least one array\n",
    "if ntl_data_list and len(ntl_data_list[0]) > 0:\n",
    "    for i in range(len(ntl_data_list[0])):\n",
    "        data[f'NTL_Value_{i+1}'] = [arr[i] for arr in ntl_data_list]\n",
    "\n",
    "# Create DataFrame\n",
    "df = pd.DataFrame(data)\n",
    "\n",
    "\n"
   ]
  },
  {
   "cell_type": "code",
   "execution_count": null,
   "id": "50cf3e29",
   "metadata": {},
   "outputs": [],
   "source": [
    "# Step 4: Handling Missing Values (if any)\n",
    "df.dropna(inplace=True)\n"
   ]
  },
  {
   "cell_type": "code",
   "execution_count": null,
   "id": "f578e6b7",
   "metadata": {},
   "outputs": [],
   "source": [
    "# Step 5: Prepare Data for Training\n",
    "X = df.drop(columns=['GDP_Growth'])\n",
    "y = df['GDP_Growth']\n"
   ]
  },
  {
   "cell_type": "code",
   "execution_count": null,
   "id": "97e9716a",
   "metadata": {},
   "outputs": [],
   "source": [
    "# Step 6: Split Data into Training and Testing Sets (80% Train, 20% Test)\n",
    "X_train, X_test, y_train, y_test = train_test_split(X, y, test_size=0.2, random_state=42)\n",
    "\n"
   ]
  },
  {
   "cell_type": "code",
   "execution_count": null,
   "id": "e88ff6c5",
   "metadata": {},
   "outputs": [],
   "source": [
    "# Step 7: Train a Random Forest Regressor Model\n",
    "model = RandomForestRegressor(n_estimators=100, random_state=42)\n",
    "model.fit(X_train, y_train)\n",
    "\n"
   ]
  },
  {
   "cell_type": "code",
   "execution_count": null,
   "id": "6ff24f44",
   "metadata": {},
   "outputs": [],
   "source": [
    "# Step 8: Make Predictions on the Test Set\n",
    "y_test_pred = model.predict(X_test)\n",
    "\n"
   ]
  },
  {
   "cell_type": "code",
   "execution_count": null,
   "id": "ecf75413",
   "metadata": {},
   "outputs": [],
   "source": [
    "# Step 9: Evaluate the Model on the Test Set\n",
    "mse_test = mean_squared_error(y_test, y_test_pred)\n",
    "print(f'Mean Squared Error on Test Set: {mse_test}')\n",
    "\n",
    "\n"
   ]
  },
  {
   "cell_type": "code",
   "execution_count": null,
   "id": "fffd1d5b",
   "metadata": {},
   "outputs": [],
   "source": [
    "# Step 10: Make Predictions for New NTL Data\n",
    "with rasterio.open(testing_file_path) as src:\n",
    "    new_ntl_data = src.read().flatten()\n",
    "\n",
    "new_ntl_data_flattened = new_ntl_data.flatten()\n",
    "scaler = StandardScaler()\n",
    "scaler.fit(X_train)\n",
    "new_ntl_data_scaled = scaler.transform(new_ntl_data_flattened.reshape(1, -1))\n",
    "new_predictions_gdp = model.predict(new_ntl_data_scaled)\n",
    "\n",
    "# Print the predictions for the new NTL data\n",
    "print(\"Predictions for New NTL Data (GDP):\")\n"
   ]
  },
  {
   "cell_type": "code",
   "execution_count": null,
   "id": "138ccbe5",
   "metadata": {},
   "outputs": [],
   "source": [
    "# Replace these paths with the actual file paths of your GeoTIFF files\n",
    "lulc_2012_path = \"C:\\\\Users\\\\my\\\\Documents\\\\UttarPradesh\\\\LULC\\\\UP_LULC_2012.tif\"\n",
    "lulc_2013_path = \"C:\\\\Users\\\\my\\\\Documents\\\\UttarPradesh\\\\LULC\\\\UP_LULC_2013.tif\"\n",
    "lulc_2014_path = \"C:\\\\Users\\\\my\\\\Documents\\\\UttarPradesh\\\\LULC\\\\UP_LULC_2014.tif\"\n",
    "lulc_2015_path = \"C:\\\\Users\\\\my\\\\Documents\\\\UttarPradesh\\\\LULC\\\\UP_LULC_2015.tif\"\n",
    "\n",
    "# Read the GeoTIFF files using rasterio\n",
    "with rasterio.open(lulc_2012_path) as src_2012, \\\n",
    "        rasterio.open(lulc_2013_path) as src_2013, \\\n",
    "        rasterio.open(lulc_2014_path) as src_2014, \\\n",
    "        rasterio.open(lulc_2015_path) as src_2015:\n",
    "    \n",
    "    # Read raster data as numpy arrays and flatten\n",
    "    lulc_2012 = src_2012.read(1).flatten()\n",
    "    lulc_2013 = src_2013.read(1).flatten()\n",
    "    lulc_2014 = src_2014.read(1).flatten()\n",
    "    lulc_2015 = src_2015.read(1).flatten()\n",
    "\n",
    "# Plotting LULC and GDP\n",
    "plt.figure(figsize=(12, 6))\n",
    "\n",
    "# Scatter plot for LULC vs GDP for each year\n",
    "plt.scatter(lulc_2012, lulc_2013, label='2012-13')\n",
    "plt.scatter(lulc_2013, lulc_2014, label='2013-14')\n",
    "plt.scatter(lulc_2014, lulc_2015, label='2014-15')\n",
    "\n",
    "plt.title('LULC vs GDP for Uttar Pradesh')\n",
    "plt.xlabel('LULC')\n",
    "plt.ylabel('GDP')\n",
    "plt.legend()\n",
    "plt.show()"
   ]
  },
  {
   "cell_type": "code",
   "execution_count": null,
   "id": "9b4f52fb",
   "metadata": {},
   "outputs": [],
   "source": []
  }
 ],
 "metadata": {
  "kernelspec": {
   "display_name": "Python 3 (ipykernel)",
   "language": "python",
   "name": "python3"
  },
  "language_info": {
   "codemirror_mode": {
    "name": "ipython",
    "version": 3
   },
   "file_extension": ".py",
   "mimetype": "text/x-python",
   "name": "python",
   "nbconvert_exporter": "python",
   "pygments_lexer": "ipython3",
   "version": "3.9.12"
  }
 },
 "nbformat": 4,
 "nbformat_minor": 5
}
